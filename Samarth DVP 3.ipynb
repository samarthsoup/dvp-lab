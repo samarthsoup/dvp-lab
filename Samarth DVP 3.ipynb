{
 "cells": [
  {
   "cell_type": "code",
   "execution_count": 11,
   "id": "b4ac00a5-cde1-446a-9f0e-95b962422716",
   "metadata": {},
   "outputs": [
    {
     "name": "stdin",
     "output_type": "stream",
     "text": [
      "student name:  s\n",
      "roll number:  48\n",
      "enter marks for 3 subjects separated by space:  33 55 77\n"
     ]
    },
    {
     "name": "stdout",
     "output_type": "stream",
     "text": [
      "average %age:  55.0 %\n",
      "highest marks:  77.0\n",
      "lowest marks:  33.0\n"
     ]
    }
   ],
   "source": [
    "name = input(\"student name: \")\n",
    "roll_n = int(input(\"roll number: \"))\n",
    "marks1, marks2, marks3 = map(float, input(\"enter marks for 3 subjects separated by space: \").split())\n",
    "print(\"average %age: \", (marks1+marks2+marks3)/3, \"%\")\n",
    "print(\"highest marks: \", max(marks1, marks2, marks3))\n",
    "print(\"lowest marks: \", min(marks1, marks2, marks3))"
   ]
  },
  {
   "cell_type": "code",
   "execution_count": 20,
   "id": "e2b8208b-0995-4bca-b126-2d5496125a22",
   "metadata": {},
   "outputs": [
    {
     "name": "stdin",
     "output_type": "stream",
     "text": [
      "how many students do you want to add:  2\n",
      "student name:  s\n",
      "roll number:  1\n",
      "enter marks for 3 subjects separated by space:  1 2 3\n",
      "student name:  a\n",
      "roll number:  2\n",
      "enter marks for 3 subjects separated by space:  4 4 3\n"
     ]
    },
    {
     "name": "stdout",
     "output_type": "stream",
     "text": [
      "data for:  s 1\n",
      "average %age:  2.0 %\n",
      "highest marks:  3.0\n",
      "lowest marks:  1.0\n",
      "data for:  a 2\n",
      "average %age:  3.6666666666666665 %\n",
      "highest marks:  4.0\n",
      "lowest marks:  3.0\n"
     ]
    }
   ],
   "source": [
    "students = []\n",
    "n = int(input(\"how many students do you want to add: \"))\n",
    "for _ in range(n):\n",
    "    name = input(\"student name: \")\n",
    "    roll_n = int(input(\"roll number: \"))\n",
    "    marks1, marks2, marks3 = map(float, input(\"enter marks for 3 subjects separated by space: \").split())\n",
    "    students.append([name, roll_n, marks1, marks2, marks3])\n",
    "\n",
    "for i in range(n):\n",
    "    print(\"data for: \", students[i][0], students[i][1])\n",
    "    print(\"average %age: \", (students[i][2]+students[i][3]+students[i][4])/3, \"%\")\n",
    "    print(\"highest marks: \", max(students[i][2],students[i][3],students[i][4]))\n",
    "    print(\"lowest marks: \", min(students[i][2],students[i][3],students[i][4]))"
   ]
  },
  {
   "cell_type": "code",
   "execution_count": 23,
   "id": "55a42785-668c-4dab-aa80-8c188b4e272a",
   "metadata": {},
   "outputs": [
    {
     "name": "stdin",
     "output_type": "stream",
     "text": [
      "how many students do you want to add:  2\n",
      "student name:  a\n",
      "roll number:  2\n",
      "enter marks for 3 subjects separated by space:  11 22 33\n",
      "student name:  b\n",
      "roll number:  1\n",
      "enter marks for 3 subjects separated by space:  66 55 11\n"
     ]
    },
    {
     "name": "stdout",
     "output_type": "stream",
     "text": [
      "data for:  a 2\n",
      "average %age:  22.0 %\n",
      "highest marks:  33.0\n",
      "lowest marks:  11.0\n",
      "data for:  b 1\n",
      "average %age:  44.0 %\n",
      "highest marks:  66.0\n",
      "lowest marks:  11.0\n"
     ]
    }
   ],
   "source": [
    "# multiple students using a list of dictionaries\n",
    "students = []\n",
    "n = int(input(\"how many students do you want to add: \"))\n",
    "for _ in range(n):\n",
    "    name = input(\"student name: \")\n",
    "    roll_n = int(input(\"roll number: \"))\n",
    "    marks_A, marks_B, marks_C = map(float, input(\"enter marks for 3 subjects separated by space: \").split())\n",
    "    students.append({'name': name, 'roll_n': roll_n, 'marks_A': marks_A, 'marks_B': marks_B, 'marks_C': marks_C})\n",
    "\n",
    "for i in range(n):\n",
    "    print(\"data for: \", students[i]['name'], students[i]['roll_n'])\n",
    "    print(\"average %age: \", (students[i]['marks_A']+students[i]['marks_B']+students[i]['marks_C'])/3, \"%\")\n",
    "    print(\"highest marks: \", max(students[i]['marks_A'],students[i]['marks_B'],students[i]['marks_C']))\n",
    "    print(\"lowest marks: \", min(students[i]['marks_A'],students[i]['marks_B'],students[i]['marks_C']))"
   ]
  },
  {
   "cell_type": "code",
   "execution_count": 25,
   "id": "500e5053-d9f6-41de-9444-19ae4103df30",
   "metadata": {},
   "outputs": [
    {
     "name": "stdout",
     "output_type": "stream",
     "text": [
      "{'name': 'a', 'roll_n': 2, 'marks_A': 11.0, 'marks_B': 22.0, 'marks_C': 33.0}\n"
     ]
    }
   ],
   "source": [
    "# print all info by filter on name\n",
    "for i in range(n):\n",
    "    if students[i]['name'] == \"a\":\n",
    "        print(students[i])"
   ]
  },
  {
   "cell_type": "code",
   "execution_count": null,
   "id": "625b6d66-2a14-41e2-88ab-1b73bb351fe9",
   "metadata": {},
   "outputs": [],
   "source": []
  }
 ],
 "metadata": {
  "kernelspec": {
   "display_name": "Python 3 (ipykernel)",
   "language": "python",
   "name": "python3"
  },
  "language_info": {
   "codemirror_mode": {
    "name": "ipython",
    "version": 3
   },
   "file_extension": ".py",
   "mimetype": "text/x-python",
   "name": "python",
   "nbconvert_exporter": "python",
   "pygments_lexer": "ipython3",
   "version": "3.10.11"
  }
 },
 "nbformat": 4,
 "nbformat_minor": 5
}
