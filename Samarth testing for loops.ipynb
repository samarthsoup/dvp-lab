{
 "cells": [
  {
   "cell_type": "raw",
   "id": "dc041f10-2f33-432f-a8e8-1ee8ede8d7fd",
   "metadata": {},
   "source": []
  },
  {
   "cell_type": "code",
   "execution_count": 1,
   "id": "da528fcb-0820-42be-8b26-2746e356b4d0",
   "metadata": {},
   "outputs": [
    {
     "name": "stdout",
     "output_type": "stream",
     "text": [
      "0\n",
      "1\n",
      "2\n",
      "3\n",
      "4\n",
      "5\n",
      "6\n",
      "7\n",
      "8\n",
      "9\n"
     ]
    }
   ],
   "source": [
    "# range(x) where loop will run from [0, x)\n",
    "for i in range(10):\n",
    "    print(i)"
   ]
  },
  {
   "cell_type": "code",
   "execution_count": 3,
   "id": "fd724062-f172-4503-b6e7-f4ddf33e1137",
   "metadata": {},
   "outputs": [
    {
     "name": "stdout",
     "output_type": "stream",
     "text": [
      "1\n",
      "2\n",
      "3\n",
      "4\n"
     ]
    }
   ],
   "source": [
    "# range(x, y) where loop will run from [x, y)\n",
    "for i in range(1, 5):\n",
    "    print(i)"
   ]
  },
  {
   "cell_type": "code",
   "execution_count": 2,
   "id": "0d4a457e-5419-4657-b3be-109a8cfd9808",
   "metadata": {
    "scrolled": true
   },
   "outputs": [
    {
     "name": "stdout",
     "output_type": "stream",
     "text": [
      "2\n",
      "4\n",
      "6\n",
      "8\n"
     ]
    }
   ],
   "source": [
    "# range(x, y, z) where x..y is range and z is the interval\n",
    "for i in range(2,10,2):\n",
    "    print(i)"
   ]
  },
  {
   "cell_type": "code",
   "execution_count": 5,
   "id": "f2959008-55c9-4c43-a028-e4bcae26e54d",
   "metadata": {},
   "outputs": [
    {
     "name": "stdout",
     "output_type": "stream",
     "text": [
      "5\n",
      "4\n",
      "3\n",
      "2\n",
      "1\n"
     ]
    }
   ],
   "source": [
    "# negative indexing\n",
    "for i in range(5,0,-1):\n",
    "    print(i)"
   ]
  },
  {
   "cell_type": "code",
   "execution_count": 4,
   "id": "2c95653f-1030-4dec-8161-cb8b9b777624",
   "metadata": {},
   "outputs": [
    {
     "name": "stdout",
     "output_type": "stream",
     "text": [
      "1\n",
      "2\n",
      "3\n",
      "4\n",
      "5\n",
      "all iterations complete\n"
     ]
    }
   ],
   "source": [
    "for i in range(1, 6):\n",
    "    print(i)\n",
    "else: \n",
    "    print(\"all iterations complete\")"
   ]
  },
  {
   "cell_type": "code",
   "execution_count": 8,
   "id": "0746f1a3-caa3-4664-8f12-453099391497",
   "metadata": {},
   "outputs": [
    {
     "name": "stdout",
     "output_type": "stream",
     "text": [
      "security check for passenger:  1 --baggage:  1 !!!baggage cleared\n",
      "security check for passenger:  1 --baggage:  2 !!!baggage cleared\n",
      "security check for passenger:  2 --baggage:  1 !!!baggage cleared\n",
      "security check for passenger:  2 --baggage:  2 !!!baggage cleared\n",
      "security check for passenger:  3 --baggage:  1 !!!baggage cleared\n",
      "security check for passenger:  3 --baggage:  2 !!!baggage cleared\n",
      "security check for passenger:  4 --baggage:  1 !!!baggage cleared\n",
      "security check for passenger:  4 --baggage:  2 !!!baggage cleared\n",
      "security check for passenger:  5 --baggage:  1 !!!baggage cleared\n",
      "security check for passenger:  5 --baggage:  2 !!!baggage cleared\n"
     ]
    }
   ],
   "source": [
    "# there are 5 passengers and each passenger has 2 bags. all bags have gone through security check. if a bag has gone through security check, print the passenger id to whom the bag belongs to, the id of the bag,\n",
    "# and that the bag is cleared. if not, print the previously mentioned information about the bag and that the bag has not been cleared.\n",
    "# passenger id and baggage id is derived by 1-based indexing.\n",
    "num_passengers = 5\n",
    "num_baggage = 2\n",
    "security_check = True\n",
    "\n",
    "for x in range(1, num_passengers+1):\n",
    "    for y in range(1, num_baggage+1):\n",
    "        if(security_check == True):\n",
    "            print(\"security check for passenger: \", x, \"--baggage: \", y, \"!!!baggage cleared\")\n",
    "        else:\n",
    "            print(\"security check for passenger: \", x, \"--baggage: \", y, \"XXXbaggage not cleared\")"
   ]
  },
  {
   "cell_type": "code",
   "execution_count": 9,
   "id": "6ed40eba-6723-4016-942d-2fd8dc5ccf0e",
   "metadata": {},
   "outputs": [
    {
     "name": "stdout",
     "output_type": "stream",
     "text": [
      "2\n",
      "3\n",
      "4\n",
      "5\n"
     ]
    }
   ],
   "source": [
    "a = [2, 3, 4, 5, 6 ,7, 8]\n",
    "for i in a:\n",
    "    print(i)\n",
    "    if i == 5:\n",
    "        break"
   ]
  },
  {
   "cell_type": "code",
   "execution_count": 10,
   "id": "97d2a6e2-b3fb-4076-aa31-211cafcf2ab5",
   "metadata": {},
   "outputs": [
    {
     "name": "stdout",
     "output_type": "stream",
     "text": [
      "2\n",
      "2 =hi\n",
      "3\n",
      "3 =hi\n",
      "4\n",
      "4 =hi\n",
      "5\n",
      "6\n",
      "6 =hi\n",
      "7\n",
      "7 =hi\n",
      "8\n",
      "8 =hi\n"
     ]
    }
   ],
   "source": [
    "a = [2, 3, 4, 5, 6 ,7, 8]\n",
    "for i in a:\n",
    "    print(i)\n",
    "    if i == 5:\n",
    "        continue\n",
    "    print(i, '=hi')"
   ]
  },
  {
   "cell_type": "code",
   "execution_count": null,
   "id": "702b7965-248a-49ff-9f49-90a25384d8fb",
   "metadata": {},
   "outputs": [],
   "source": []
  }
 ],
 "metadata": {
  "kernelspec": {
   "display_name": "Python 3 (ipykernel)",
   "language": "python",
   "name": "python3"
  },
  "language_info": {
   "codemirror_mode": {
    "name": "ipython",
    "version": 3
   },
   "file_extension": ".py",
   "mimetype": "text/x-python",
   "name": "python",
   "nbconvert_exporter": "python",
   "pygments_lexer": "ipython3",
   "version": "3.10.11"
  }
 },
 "nbformat": 4,
 "nbformat_minor": 5
}
