{
 "cells": [
  {
   "cell_type": "code",
   "execution_count": 4,
   "id": "ff59fa9e-754f-4664-9e35-8556ca83cb6a",
   "metadata": {},
   "outputs": [
    {
     "name": "stdout",
     "output_type": "stream",
     "text": [
      "enter name:  samarth\n",
      "enter rollno:  48\n",
      "enter address:  baner\n"
     ]
    }
   ],
   "source": [
    "# takes user input\n",
    "name = input(\"enter name: \")\n",
    "rollno = int(input(\"enter rollno: \"))\n",
    "addr = input(\"enter address: \")"
   ]
  },
  {
   "cell_type": "code",
   "execution_count": 3,
   "id": "3e6373ee-2465-4aea-99d0-f56e77f1ac3e",
   "metadata": {},
   "outputs": [
    {
     "name": "stdout",
     "output_type": "stream",
     "text": [
      "enter first number:  1\n",
      "enter second number:  2\n"
     ]
    },
    {
     "name": "stdout",
     "output_type": "stream",
     "text": [
      "3\n"
     ]
    }
   ],
   "source": [
    "# sum of two numbers\n",
    "x = int(input(\"enter first number: \"))\n",
    "y = int(input(\"enter second number: \"))\n",
    "print(\"sum: \", x+y)"
   ]
  },
  {
   "cell_type": "code",
   "execution_count": 6,
   "id": "b8f67bcc-472a-4a40-9e90-3c412802b800",
   "metadata": {},
   "outputs": [
    {
     "name": "stdout",
     "output_type": "stream",
     "text": [
      "enter temperature in celsius:  20.4\n"
     ]
    },
    {
     "name": "stdout",
     "output_type": "stream",
     "text": [
      "68.72\n"
     ]
    }
   ],
   "source": [
    "# convert celsius to fahrenheit\n",
    "x = float(input(\"enter temperature in celsius: \"))\n",
    "print(((9*x)/5) + 32)"
   ]
  },
  {
   "cell_type": "code",
   "execution_count": 11,
   "id": "d39fea0c-cf35-4569-8a28-71819225dca2",
   "metadata": {},
   "outputs": [
    {
     "name": "stdout",
     "output_type": "stream",
     "text": [
      "enter length of side A:  12\n",
      "enter length of side B:  5\n",
      "enter length of side C:  13\n"
     ]
    },
    {
     "name": "stdout",
     "output_type": "stream",
     "text": [
      "30.0\n"
     ]
    }
   ],
   "source": [
    "# area of triangle\n",
    "a = float(input(\"enter length of side A: \"))\n",
    "b = float(input(\"enter length of side B: \"))\n",
    "c = float(input(\"enter length of side C: \"))\n",
    "\n",
    "s = (a+b+c)/2\n",
    "area = (s*(s-a)*(s-b)*(s-c))**(0.5) # ** operator is for exponents\n",
    "\n",
    "print(\"area: \", area)"
   ]
  },
  {
   "cell_type": "code",
   "execution_count": 13,
   "id": "891036b2-977b-4a51-a097-c0a49462aa31",
   "metadata": {},
   "outputs": [
    {
     "name": "stdout",
     "output_type": "stream",
     "text": [
      "enter first number:  1\n",
      "enter second number:  2\n"
     ]
    },
    {
     "name": "stdout",
     "output_type": "stream",
     "text": [
      "first var:  1.0\n",
      "second var:  1.0\n"
     ]
    }
   ],
   "source": [
    "a = float(input(\"enter first number: \"))\n",
    "b = float(input(\"enter second number: \"))\n",
    "\n",
    "b = a\n",
    "a = b # incorrect swapping mechanism as we changed the value of b to a, so when we do 'a = b', it is the original value of a\n",
    "# this approach loses us the original value of b\n",
    "\n",
    "print(\"first var: \", a)\n",
    "print(\"second var: \", b)"
   ]
  },
  {
   "cell_type": "code",
   "execution_count": 9,
   "id": "92fca39e-46e6-41a3-83d9-fc4f322e5586",
   "metadata": {},
   "outputs": [
    {
     "name": "stdout",
     "output_type": "stream",
     "text": [
      "enter first number:  2\n",
      "enter second number:  3\n"
     ]
    },
    {
     "name": "stdout",
     "output_type": "stream",
     "text": [
      "first number: \n",
      "3.0\n",
      "second number:  2.0\n",
      "2.0\n"
     ]
    }
   ],
   "source": [
    "# swap variable values\n",
    "a = float(input(\"enter first number: \"))\n",
    "b = float(input(\"enter second number: \"))\n",
    "\n",
    "c = b # introduce third variable to preserve value of b after its value is changed to a\n",
    "b = a\n",
    "a = c\n",
    "\n",
    "print(\"first var: \", a)\n",
    "print(\"second var: \", b)"
   ]
  },
  {
   "cell_type": "code",
   "execution_count": 11,
   "id": "ddfd6d3c-64c4-479e-a8f4-7f01891c89e9",
   "metadata": {},
   "outputs": [
    {
     "name": "stdout",
     "output_type": "stream",
     "text": [
      "enter name:  samarth kulkarni\n"
     ]
    },
    {
     "name": "stdout",
     "output_type": "stream",
     "text": [
      "samarth kulkarni\n"
     ]
    }
   ],
   "source": [
    "# splits input elements separated by space and maps them to the corresponding variables\n",
    "firstname,lastname = map(str, input(\"enter name: \").split()) \n",
    "print(firstname, lastname)"
   ]
  },
  {
   "cell_type": "code",
   "execution_count": 12,
   "id": "2a7791bc-2b92-4612-b488-a98c2d196fef",
   "metadata": {},
   "outputs": [
    {
     "name": "stdout",
     "output_type": "stream",
     "text": [
      "enter name:  samarth samir kulkarni\n"
     ]
    },
    {
     "ename": "ValueError",
     "evalue": "too many values to unpack (expected 2)",
     "output_type": "error",
     "traceback": [
      "\u001b[0;31m---------------------------------------------------------------------------\u001b[0m",
      "\u001b[0;31mValueError\u001b[0m                                Traceback (most recent call last)",
      "Cell \u001b[0;32mIn[12], line 1\u001b[0m\n\u001b[0;32m----> 1\u001b[0m a,b \u001b[38;5;241m=\u001b[39m \u001b[38;5;28mmap\u001b[39m(\u001b[38;5;28mstr\u001b[39m, \u001b[38;5;28minput\u001b[39m(\u001b[38;5;124m\"\u001b[39m\u001b[38;5;124menter name: \u001b[39m\u001b[38;5;124m\"\u001b[39m)\u001b[38;5;241m.\u001b[39msplit())\n\u001b[1;32m      2\u001b[0m \u001b[38;5;28mprint\u001b[39m(a, b)\n",
      "\u001b[0;31mValueError\u001b[0m: too many values to unpack (expected 2)"
     ]
    }
   ],
   "source": [
    "# same code as previous cell but it is now provided 3 space separated values so it can't map to the variables as there are only two of those\n",
    "firstname,lastname = map(str, input(\"enter name: \").split())\n",
    "print(firstname, lastname)"
   ]
  },
  {
   "cell_type": "code",
   "execution_count": 9,
   "id": "e145a31a-2fad-4002-9cd9-f5672d1de28d",
   "metadata": {},
   "outputs": [
    {
     "name": "stdout",
     "output_type": "stream",
     "text": [
      "enter name:  samarth kulkarni\n"
     ]
    },
    {
     "name": "stdout",
     "output_type": "stream",
     "text": [
      "s k\n"
     ]
    }
   ],
   "source": [
    "#initials of a name\n",
    "name = input(\"enter name: \").split() #split input by space\n",
    "initials = ' '.join([str(x[0]) for x in name]) #take the first index of each element string and join them with a space in the middle\n",
    "print(initials)"
   ]
  },
  {
   "cell_type": "code",
   "execution_count": 14,
   "id": "ed905b38-7ce2-402a-bbc4-30cb6268c0e6",
   "metadata": {},
   "outputs": [
    {
     "name": "stdout",
     "output_type": "stream",
     "text": [
      "[]\n",
      "[1, 2, 3]\n",
      "[1, 2, 3, 5, [6, 7, 8]]\n",
      "[1, 2, 3, 4, 5, [6, 7, 8]]\n"
     ]
    }
   ],
   "source": [
    "# list functions\n",
    "list = [] # empty list\n",
    "print(list)\n",
    "list = [1, 2, 3]\n",
    "print(list)\n",
    "list.extend([5])\n",
    "list.append([6,7,8]) # append adds only one element so even if you provide it an iterable it ends up adding the entire list as one element\n",
    "print(list)\n",
    "list.insert(3, 4) # inserts element 4 on the index 3(0-base) \n",
    "print(list)"
   ]
  },
  {
   "cell_type": "code",
   "execution_count": 4,
   "id": "63c7a0cb-4a2a-4d32-a44b-274fe6c2004e",
   "metadata": {
    "scrolled": true
   },
   "outputs": [
    {
     "ename": "TypeError",
     "evalue": "list.extend() takes exactly one argument (2 given)",
     "output_type": "error",
     "traceback": [
      "\u001b[0;31m---------------------------------------------------------------------------\u001b[0m",
      "\u001b[0;31mTypeError\u001b[0m                                 Traceback (most recent call last)",
      "Cell \u001b[0;32mIn[4], line 2\u001b[0m\n\u001b[1;32m      1\u001b[0m \u001b[38;5;66;03m# extend adds all elements but it needs to be given only one argument that is an iterable\u001b[39;00m\n\u001b[0;32m----> 2\u001b[0m \u001b[38;5;28;43mlist\u001b[39;49m\u001b[38;5;241;43m.\u001b[39;49m\u001b[43mextend\u001b[49m\u001b[43m(\u001b[49m\u001b[43m[\u001b[49m\u001b[38;5;124;43m\"\u001b[39;49m\u001b[38;5;124;43msamarth\u001b[39;49m\u001b[38;5;124;43m\"\u001b[39;49m\u001b[43m]\u001b[49m\u001b[43m,\u001b[49m\u001b[43m \u001b[49m\u001b[43m[\u001b[49m\u001b[38;5;124;43m\"\u001b[39;49m\u001b[38;5;124;43mkulkarni\u001b[39;49m\u001b[38;5;124;43m\"\u001b[39;49m\u001b[43m]\u001b[49m\u001b[43m)\u001b[49m\n\u001b[1;32m      3\u001b[0m \u001b[38;5;28mprint\u001b[39m(\u001b[38;5;28mlist\u001b[39m)\n",
      "\u001b[0;31mTypeError\u001b[0m: list.extend() takes exactly one argument (2 given)"
     ]
    }
   ],
   "source": [
    "# extend adds all elements but it needs to be given only one argument that is an iterable\n",
    "list = []\n",
    "list.extend([\"samarth\"], [\"kulkarni\"])\n",
    "print(list)"
   ]
  },
  {
   "cell_type": "code",
   "execution_count": 5,
   "id": "a76976f3-5365-4e83-aa51-2cb2341a71c6",
   "metadata": {},
   "outputs": [
    {
     "ename": "TypeError",
     "evalue": "list.append() takes exactly one argument (2 given)",
     "output_type": "error",
     "traceback": [
      "\u001b[0;31m---------------------------------------------------------------------------\u001b[0m",
      "\u001b[0;31mTypeError\u001b[0m                                 Traceback (most recent call last)",
      "Cell \u001b[0;32mIn[5], line 1\u001b[0m\n\u001b[0;32m----> 1\u001b[0m \u001b[38;5;28;43mlist\u001b[39;49m\u001b[38;5;241;43m.\u001b[39;49m\u001b[43mappend\u001b[49m\u001b[43m(\u001b[49m\u001b[43m[\u001b[49m\u001b[38;5;124;43m\"\u001b[39;49m\u001b[38;5;124;43msamarth\u001b[39;49m\u001b[38;5;124;43m\"\u001b[39;49m\u001b[43m]\u001b[49m\u001b[43m,\u001b[49m\u001b[43m \u001b[49m\u001b[43m[\u001b[49m\u001b[38;5;124;43m\"\u001b[39;49m\u001b[38;5;124;43mkulkarni\u001b[39;49m\u001b[38;5;124;43m\"\u001b[39;49m\u001b[43m]\u001b[49m\u001b[43m)\u001b[49m\n\u001b[1;32m      2\u001b[0m \u001b[38;5;28mprint\u001b[39m(\u001b[38;5;28mlist\u001b[39m)\n",
      "\u001b[0;31mTypeError\u001b[0m: list.append() takes exactly one argument (2 given)"
     ]
    }
   ],
   "source": [
    "# append accepts only one element\n",
    "list = []\n",
    "list.append([\"samarth\"], [\"kulkarni\"]) \n",
    "print(list)"
   ]
  },
  {
   "cell_type": "code",
   "execution_count": 6,
   "id": "6803e77f-4ba3-4106-9470-b95059e3d71e",
   "metadata": {},
   "outputs": [
    {
     "name": "stdout",
     "output_type": "stream",
     "text": [
      "['s', 'a', 'm', 'a', 'r', 't', 'h', 'k', 'u', 'l', 'k', 'a', 'r', 'n', 'i', 'samarth kulkarni', 'samarth', 'kulkarni', ['samarth', 'kulkarni']]\n"
     ]
    }
   ],
   "source": [
    "# additional functionality\n",
    "list = []\n",
    "list.extend('samarth' 'kulkarni') #inserts each char into the list\n",
    "list.append(\"samarth kulkarni\")\n",
    "list.extend([\"samarth\", \"kulkarni\"]) #extend given one argument [] that is an iterable consisting of multiple elements\n",
    "list.append([\"samarth\", \"kulkarni\"]) #append adds only one element into the list, even if it is an iterable\n",
    "print(list)\n",
    "\n",
    "# both extend and append take only one argument\n",
    "# extend iterates over the argument passed and adds all elements in the iterable as separate elements in the list\n",
    "# append adds the entire argument as one element in the list"
   ]
  },
  {
   "cell_type": "code",
   "execution_count": 7,
   "id": "dd4b1dab-dfd5-41f2-88db-215f49e9ad3d",
   "metadata": {},
   "outputs": [
    {
     "name": "stdout",
     "output_type": "stream",
     "text": [
      "[True]\n"
     ]
    }
   ],
   "source": [
    "# adding boolean types\n",
    "list = []\n",
    "list.append(True)\n",
    "print(list)"
   ]
  },
  {
   "cell_type": "code",
   "execution_count": 76,
   "id": "d5d2be77-df7b-4ac0-bcee-cdc913120e20",
   "metadata": {},
   "outputs": [
    {
     "name": "stdout",
     "output_type": "stream",
     "text": [
      "{'first': 'python', 'second': 'c++'}\n",
      "{'first': 'python', 'second': 'c'}\n",
      "{'first': 'python', 'second': 'c', 'third': 'c++'}\n"
     ]
    }
   ],
   "source": [
    "# dictionary functionalities\n",
    "dict = {'first': 'python', 'second':'c++'}\n",
    "print(dict)\n",
    "dict['second'] = 'c' # changing value for a previously defined key\n",
    "print(dict)\n",
    "dict['third'] = 'c++' # adding value for new key \n",
    "print(dict)"
   ]
  },
  {
   "cell_type": "code",
   "execution_count": 77,
   "id": "6fdf70f2-1f8f-4899-bd31-fe905b6ca607",
   "metadata": {},
   "outputs": [
    {
     "data": {
      "text/plain": [
       "dict_keys(['first', 'second', 'third'])"
      ]
     },
     "execution_count": 77,
     "metadata": {},
     "output_type": "execute_result"
    }
   ],
   "source": [
    "# prints keys of dictionary\n",
    "dict.keys()"
   ]
  },
  {
   "cell_type": "code",
   "execution_count": 78,
   "id": "257c6aaa-238a-412c-8aa4-063105d118aa",
   "metadata": {},
   "outputs": [
    {
     "data": {
      "text/plain": [
       "dict_values(['python', 'c', 'c++'])"
      ]
     },
     "execution_count": 78,
     "metadata": {},
     "output_type": "execute_result"
    }
   ],
   "source": [
    "# print values of dictionary\n",
    "dict.values()"
   ]
  },
  {
   "cell_type": "code",
   "execution_count": 79,
   "id": "0a0dcb52-24eb-4ccd-8d24-fcd8b03caf5c",
   "metadata": {},
   "outputs": [
    {
     "data": {
      "text/plain": [
       "dict_items([('first', 'python'), ('second', 'c'), ('third', 'c++')])"
      ]
     },
     "execution_count": 79,
     "metadata": {},
     "output_type": "execute_result"
    }
   ],
   "source": [
    "# print key-value pairs of dictionary (essentially prints the dictionary itself)\n",
    "dict.items()"
   ]
  }
 ],
 "metadata": {
  "kernelspec": {
   "display_name": "Python 3 (ipykernel)",
   "language": "python",
   "name": "python3"
  },
  "language_info": {
   "codemirror_mode": {
    "name": "ipython",
    "version": 3
   },
   "file_extension": ".py",
   "mimetype": "text/x-python",
   "name": "python",
   "nbconvert_exporter": "python",
   "pygments_lexer": "ipython3",
   "version": "3.9.6"
  }
 },
 "nbformat": 4,
 "nbformat_minor": 5
}
